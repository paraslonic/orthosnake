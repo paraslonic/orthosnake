{
 "cells": [
  {
   "cell_type": "code",
   "execution_count": 2,
   "id": "68e361ea",
   "metadata": {},
   "outputs": [
    {
     "name": "stdout",
     "output_type": "stream",
     "text": [
      "\u001b[?2004h\u001b[?2004l\u001b[?2004l"
     ]
    },
    {
     "ename": "",
     "evalue": "1",
     "output_type": "error",
     "traceback": []
    }
   ],
   "source": [
    "contig='UTI89'\n",
    "genome='GCF_000013265.1_ASM1326v1_genomic'\n",
    "fastq_name='SRR7517493'"
   ]
  },
  {
   "cell_type": "code",
   "execution_count": 3,
   "id": "198e08fc",
   "metadata": {},
   "outputs": [
    {
     "name": "stdout",
     "output_type": "stream",
     "text": [
      "\u001b[?2004h(KolianEn) "
     ]
    },
    {
     "ename": "",
     "evalue": "1",
     "output_type": "error",
     "traceback": []
    }
   ],
   "source": [
    "conda env create -f envs/recombinations.yaml"
   ]
  },
  {
   "cell_type": "code",
   "execution_count": null,
   "id": "2b4c35be",
   "metadata": {},
   "outputs": [],
   "source": [
    "conda activate recombination"
   ]
  },
  {
   "cell_type": "code",
   "execution_count": 4,
   "id": "3849475e",
   "metadata": {},
   "outputs": [
    {
     "name": "stdout",
     "output_type": "stream",
     "text": [
      "cp: cannot stat 'genomes_input/GCF_000013265.1_ASM1326v1_genomic.fna': No such file or directory\n",
      "\u001b[?2004h(KolianEn) "
     ]
    },
    {
     "ename": "",
     "evalue": "1",
     "output_type": "error",
     "traceback": []
    }
   ],
   "source": [
    "cp genomes_input/$genome.fna recombinations/"
   ]
  },
  {
   "cell_type": "code",
   "execution_count": 18,
   "id": "2c6b7a1a",
   "metadata": {},
   "outputs": [
    {
     "name": "stdout",
     "output_type": "stream",
     "text": [
      "\u001b[?2004h(KolianEn) "
     ]
    },
    {
     "ename": "",
     "evalue": "1",
     "output_type": "error",
     "traceback": []
    }
   ],
   "source": [
    "rm -r recombinations/.ipynb_checkpoints"
   ]
  },
  {
   "cell_type": "code",
   "execution_count": 21,
   "id": "ee90273b",
   "metadata": {},
   "outputs": [
    {
     "name": "stdout",
     "output_type": "stream",
     "text": [
      "\u001b[?2004h(KolianEn) "
     ]
    },
    {
     "ename": "",
     "evalue": "1",
     "output_type": "error",
     "traceback": []
    }
   ],
   "source": [
    "fastq_name=$(basename `find recombinations/*`)"
   ]
  },
  {
   "cell_type": "code",
   "execution_count": 22,
   "id": "abc68652",
   "metadata": {},
   "outputs": [
    {
     "name": "stdout",
     "output_type": "stream",
     "text": [
      "untitled\n",
      "\u001b[?2004h(KolianEn) "
     ]
    },
    {
     "ename": "",
     "evalue": "1",
     "output_type": "error",
     "traceback": []
    }
   ],
   "source": [
    "echo $fastq_name"
   ]
  },
  {
   "cell_type": "code",
   "execution_count": 24,
   "id": "a6d415c2",
   "metadata": {},
   "outputs": [
    {
     "name": "stdout",
     "output_type": "stream",
     "text": [
      "2021-10-07 10:07:20,292 - SRR ids: ['recombinations/SRR7517493']\n",
      "2021-10-07 10:07:20,292 - extra args: []\n",
      "2021-10-07 10:07:20,293 - tempdir: /tmp/pfd_cli_a81l\n",
      "2021-10-07 10:07:20,293 - CMD: sra-stat --meta --quick recombinations/SRR7517493\n",
      "2021-10-07 10:07:20,324 - recombinations/SRR7517493 spots: 268395\n",
      "2021-10-07 10:07:20,325 - blocks: [[1, 67098], [67099, 134196], [134197, 201294], [201295, 268395]]\n",
      "2021-10-07 10:07:20,325 - CMD: fastq-dump -N 1 -X 67098 -O /tmp/pfd_cli_a81l/0 recombinations/SRR7517493\n",
      "2021-10-07 10:07:20,327 - CMD: fastq-dump -N 67099 -X 134196 -O /tmp/pfd_cli_a81l/1 recombinations/SRR7517493\n",
      "2021-10-07 10:07:20,329 - CMD: fastq-dump -N 134197 -X 201294 -O /tmp/pfd_cli_a81l/2 recombinations/SRR7517493\n",
      "2021-10-07 10:07:20,331 - CMD: fastq-dump -N 201295 -X 268395 -O /tmp/pfd_cli_a81l/3 recombinations/SRR7517493\n",
      "Read 67098 spots for recombinations/SRR7517493\n",
      "Written 67098 spots for recombinations/SRR7517493\n",
      "Read 67098 spots for recombinations/SRR7517493\n",
      "Written 67098 spots for recombinations/SRR7517493\n",
      "Read 67101 spots for recombinations/SRR7517493\n",
      "Written 67101 spots for recombinations/SRR7517493\n",
      "Read 67098 spots for recombinations/SRR7517493\n",
      "Written 67098 spots for recombinations/SRR7517493\n",
      "\u001b[?2004h(KolianEn) "
     ]
    },
    {
     "ename": "",
     "evalue": "1",
     "output_type": "error",
     "traceback": []
    }
   ],
   "source": [
    "parallel-fastq-dump --sra-id recombinations/$fastq_name --threads 4 --outdir recombinations/"
   ]
  },
  {
   "cell_type": "code",
   "execution_count": 25,
   "id": "1ffb9254",
   "metadata": {},
   "outputs": [
    {
     "name": "stdout",
     "output_type": "stream",
     "text": [
      "[M::mm_idx_gen::0.125*1.02] collected minimizers\n",
      "[M::mm_idx_gen::0.163*1.44] sorted minimizers\n",
      "[M::main::0.163*1.44] loaded/built the index for 1 target sequence(s)\n",
      "[M::mm_mapopt_update::0.183*1.39] mid_occ = 8\n",
      "[M::mm_idx_stat] kmer size: 15; skip: 10; is_hpc: 0; #seq: 1\n",
      "[M::mm_idx_stat::0.198*1.36] distinct minimizers: 920103 (97.96% are singletons); average occurrences: 1.029; average spacing: 5.352\n",
      "[M::worker_pipeline::52.788*2.98] mapped 81115 sequences\n",
      "[M::worker_pipeline::102.686*3.02] mapped 70947 sequences\n",
      "[M::worker_pipeline::152.048*3.03] mapped 66739 sequences\n",
      "[M::worker_pipeline::189.383*3.01] mapped 49594 sequences\n",
      "[M::main] Version: 2.17-r941\n",
      "[M::main] CMD: minimap2 -ax map-ont recombinations/GCF_000013265.1_ASM1326v1_genomic.fna recombinations/SRR7517493.fastq\n",
      "[M::main] Real time: 189.446 sec; CPU: 570.652 sec; Peak RSS: 3.847 GB\n",
      "\u001b[?2004h(KolianEn) "
     ]
    },
    {
     "ename": "",
     "evalue": "1",
     "output_type": "error",
     "traceback": []
    }
   ],
   "source": [
    "minimap2 -ax map-ont recombinations/$genome.fna recombinations/$fastq_name.fastq > recombinations/$contig.sam"
   ]
  },
  {
   "cell_type": "code",
   "execution_count": 26,
   "id": "9a28a519",
   "metadata": {},
   "outputs": [
    {
     "name": "stdout",
     "output_type": "stream",
     "text": [
      "[bam_sort_core] merging from 4 files and 1 in-memory blocks...\n",
      "\u001b[?2004h(KolianEn) \u001b[?2004l"
     ]
    },
    {
     "ename": "",
     "evalue": "1",
     "output_type": "error",
     "traceback": []
    }
   ],
   "source": [
    "samtools view -S -b recombinations/$contig.sam > recombinations/$contig.bam\n",
    "samtools sort recombinations/$contig.bam -o recombinations/$contig.sorted.bam\n",
    "samtools index recombinations/$contig.sorted.bam"
   ]
  },
  {
   "cell_type": "code",
   "execution_count": 28,
   "id": "9e3c33cd",
   "metadata": {},
   "outputs": [
    {
     "name": "stdout",
     "output_type": "stream",
     "text": [
      "\u001b[?2004h(KolianEn) "
     ]
    },
    {
     "ename": "",
     "evalue": "1",
     "output_type": "error",
     "traceback": []
    }
   ],
   "source": [
    "bedtools bamtobed -i recombinations/$contig.sorted.bam > Results/$contig.bed"
   ]
  },
  {
   "cell_type": "code",
   "execution_count": 29,
   "id": "65a12381",
   "metadata": {},
   "outputs": [
    {
     "name": "stdout",
     "output_type": "stream",
     "text": [
      "\u001b[?2004h(KolianEn) "
     ]
    },
    {
     "ename": "",
     "evalue": "1",
     "output_type": "error",
     "traceback": []
    }
   ],
   "source": [
    "samtools depth recombinations/$contig.sorted.bam > Results/depth$contig.tsv"
   ]
  },
  {
   "cell_type": "markdown",
   "id": "269cd742",
   "metadata": {},
   "source": [
    "# Активация GCB"
   ]
  },
  {
   "cell_type": "code",
   "execution_count": 31,
   "id": "2a5b516d",
   "metadata": {},
   "outputs": [
    {
     "name": "stdout",
     "output_type": "stream",
     "text": [
      "\u001b[?2004h(gcb-env) ?2004l"
     ]
    },
    {
     "ename": "",
     "evalue": "1",
     "output_type": "error",
     "traceback": []
    }
   ],
   "source": [
    "if [ ! -d \"helpers/geneGraph\" ]; then\n",
    "  git clone https://github.com/DNKonanov/geneGraph.git helpers/geneGraph\n",
    "fi"
   ]
  },
  {
   "cell_type": "code",
   "execution_count": 32,
   "id": "f9fc5022",
   "metadata": {},
   "outputs": [
    {
     "name": "stdout",
     "output_type": "stream",
     "text": [
      "\u001b[?2004l\n",
      "geneGraph - tool to estimate genome variability\n",
      "\n",
      "Parsing... It may take a few minutes...\n",
      "Database filling...\n",
      "\n",
      "    ---    \n",
      "Parsing with paralogues... It may take a few minutes...\n",
      "Orthologization...\n",
      "Database filling...\n",
      "Complete!\n",
      "Reference is GCF_000013265.1_ASM1326v1_genomic\n",
      "Number of contigs: 2\n",
      "\n",
      "Computing wth contig NC_007946.1...\n",
      "4545 gene of 4545\n",
      "Computing wth contig NC_007941.1...\n",
      "115 gene of 115\n",
      "Computing completed\n",
      "\u001b[?2004h(gcb-env) "
     ]
    },
    {
     "ename": "",
     "evalue": "1",
     "output_type": "error",
     "traceback": []
    }
   ],
   "source": [
    "python3 helpers/geneGraph/gg.py -i Results/Orthogroups.txt -o Results/gcb_res/ --reference $genome"
   ]
  },
  {
   "cell_type": "code",
   "execution_count": null,
   "id": "3480d109",
   "metadata": {},
   "outputs": [],
   "source": []
  }
 ],
 "metadata": {
  "kernelspec": {
   "display_name": "Bash",
   "language": "bash",
   "name": "bash"
  },
  "language_info": {
   "codemirror_mode": "shell",
   "file_extension": ".sh",
   "mimetype": "text/x-sh",
   "name": "bash"
  }
 },
 "nbformat": 4,
 "nbformat_minor": 5
}
