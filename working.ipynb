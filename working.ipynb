{
 "cells": [
  {
   "cell_type": "code",
   "execution_count": null,
   "id": "5356e920",
   "metadata": {},
   "outputs": [],
   "source": [
    "contig = 'Ja99'\n",
    "genome = 'GCF_013177275.1_ASM1317727v1_genomic'"
   ]
  },
  {
   "cell_type": "code",
   "execution_count": 26,
   "id": "a735679f",
   "metadata": {},
   "outputs": [
    {
     "name": "stdout",
     "output_type": "stream",
     "text": [
      "\u001b[?2004h(KolianEn) "
     ]
    },
    {
     "ename": "",
     "evalue": "1",
     "output_type": "error",
     "traceback": []
    }
   ],
   "source": [
    "conda activate KolianEn"
   ]
  },
  {
   "cell_type": "code",
   "execution_count": 27,
   "id": "c42e4ac9",
   "metadata": {},
   "outputs": [
    {
     "name": "stdout",
     "output_type": "stream",
     "text": [
      "[M::mm_idx_gen::0.046*5.33] collected minimizers\n",
      "[M::mm_idx_gen::0.069*4.44] sorted minimizers\n",
      "[M::main::0.069*4.44] loaded/built the index for 1 target sequence(s)\n",
      "[M::mm_mapopt_update::0.078*4.04] mid_occ = 6\n",
      "[M::mm_idx_stat] kmer size: 15; skip: 10; is_hpc: 0; #seq: 1\n",
      "[M::mm_idx_stat::0.083*3.87] distinct minimizers: 296693 (96.88% are singletons); average occurrences: 1.035; average spacing: 5.334\n",
      "[M::worker_pipeline::72.713*2.99] mapped 155732 sequences\n",
      "[M::worker_pipeline::141.506*3.02] mapped 155681 sequences\n",
      "[M::worker_pipeline::162.879*3.00] mapped 52193 sequences\n",
      "[M::main] Version: 2.17-r941\n",
      "[M::main] CMD: minimap2 -ax map-ont recombinations/GCF_013177275.1_ASM1317727v1_genomic.fna recombinations/BC5.fastq\n",
      "[M::main] Real time: 162.908 sec; CPU: 489.175 sec; Peak RSS: 2.552 GB\n",
      "\u001b[?2004h(KolianEn) "
     ]
    },
    {
     "ename": "",
     "evalue": "1",
     "output_type": "error",
     "traceback": []
    }
   ],
   "source": [
    "minimap2 -ax map-ont recombinations/$genome.fna recombinations/BC5.fastq > recombinations/$contig.sam"
   ]
  },
  {
   "cell_type": "code",
   "execution_count": 28,
   "id": "d9bff3a2",
   "metadata": {},
   "outputs": [
    {
     "name": "stdout",
     "output_type": "stream",
     "text": [
      "[bam_sort_core] merging from 3 files and 1 in-memory blocks...\n",
      "\u001b[?2004h(KolianEn) \u001b[?2004l"
     ]
    },
    {
     "ename": "",
     "evalue": "1",
     "output_type": "error",
     "traceback": []
    }
   ],
   "source": [
    "samtools view -S -b recombinations/$contig.sam > recombinations/$contig.bam\n",
    "samtools sort recombinations/$contig.bam -o recombinations/$contig_sorted.bam\n",
    "samtools index recombinations/$contig_sorted.bam"
   ]
  },
  {
   "cell_type": "code",
   "execution_count": 29,
   "id": "e38b37ac",
   "metadata": {},
   "outputs": [
    {
     "name": "stdout",
     "output_type": "stream",
     "text": [
      "\u001b[?2004h(KolianEn) "
     ]
    },
    {
     "ename": "",
     "evalue": "1",
     "output_type": "error",
     "traceback": []
    }
   ],
   "source": [
    "bedtools bamtobed -i recombinations/$contig_sorted.bam > Results/$contig.bed"
   ]
  },
  {
   "cell_type": "code",
   "execution_count": 30,
   "id": "d16d43ee",
   "metadata": {},
   "outputs": [
    {
     "name": "stdout",
     "output_type": "stream",
     "text": [
      "\u001b[?2004h(KolianEn) "
     ]
    },
    {
     "ename": "",
     "evalue": "1",
     "output_type": "error",
     "traceback": []
    }
   ],
   "source": [
    "samtools depth recombinations/$contig_sorted.bam > Results/depth$contig.tsv"
   ]
  },
  {
   "cell_type": "markdown",
   "id": "9acb0803",
   "metadata": {},
   "source": [
    "# Активация GCB"
   ]
  },
  {
   "cell_type": "code",
   "execution_count": 31,
   "id": "f6162f36",
   "metadata": {},
   "outputs": [
    {
     "name": "stdout",
     "output_type": "stream",
     "text": [
      "\u001b[?2004h(gcb-env) "
     ]
    },
    {
     "ename": "",
     "evalue": "1",
     "output_type": "error",
     "traceback": []
    }
   ],
   "source": [
    "conda activate gcb-env"
   ]
  },
  {
   "cell_type": "code",
   "execution_count": 32,
   "id": "67a72568",
   "metadata": {},
   "outputs": [
    {
     "name": "stdout",
     "output_type": "stream",
     "text": [
      "\u001b[?2004l\n",
      "geneGraph - tool to estimate genome variability\n",
      "\n",
      "Parsing... It may take a few minutes...\n",
      "Database filling...\n",
      "\n",
      "    ---    \n",
      "Parsing with paralogues... It may take a few minutes...\n",
      "Orthologization...\n",
      "Database filling...\n",
      "Complete!\n",
      "Reference is GCF_013177275.1_ASM1317727v1_genomic\n",
      "Number of contigs: 1\n",
      "\n",
      "Computing wth contig NZ_JABFHN010000001.....\n",
      "1396 gene of 1396\n",
      "Computing completed\n",
      "\u001b[?2004h(gcb-env) "
     ]
    },
    {
     "ename": "",
     "evalue": "1",
     "output_type": "error",
     "traceback": []
    }
   ],
   "source": [
    "python3 helpers/geneGraph/gg.py -i Results/Orthogroups.txt -o Results/gcb_res/ --reference $genome"
   ]
  },
  {
   "cell_type": "code",
   "execution_count": null,
   "id": "914cf7a1",
   "metadata": {},
   "outputs": [],
   "source": []
  }
 ],
 "metadata": {
  "kernelspec": {
   "display_name": "Bash",
   "language": "bash",
   "name": "bash"
  },
  "language_info": {
   "codemirror_mode": "shell",
   "file_extension": ".sh",
   "mimetype": "text/x-sh",
   "name": "bash"
  }
 },
 "nbformat": 4,
 "nbformat_minor": 5
}
